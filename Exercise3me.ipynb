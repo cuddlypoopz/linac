{
 "cells": [
  {
   "cell_type": "code",
   "execution_count": 44,
   "metadata": {
    "scrolled": false
   },
   "outputs": [],
   "source": [
    "from numpy import sqrt\n",
    "import numpy as np\n",
    "from pylab import figure,plot,xlim,xlabel,ylim,ylabel,grid,title,show,legend\n",
    "from numpy import sqrt,array,arange,linspace,zeros,absolute\n",
    "from matplotlib import pyplot as plt\n",
    "from scipy.integrate import odeint\n",
    "import pandas\n",
    "from mpl_toolkits.mplot3d import Axes3D\n",
    "#\n",
    "# Given values\n",
    "#\n",
    "\n",
    "q = 1.60e-19 # q = particle charge [C]\n",
    "m = 7.0*1.67e-27 # m = Li+ mass [Kg]\n",
    "KE_eV = 100.0 # KE_eV particle kinetic energy [eV]\n",
    "E = [0.0, -105.0, 0.0] # E = electric field vector [x, y, z] [N/C]\n",
    "B = [0.002, 0.0, 0.0]\n",
    "R_mm = 1.0 # R = radius of the exit aperture [mm]\n",
    "L = .25 # Length traveled in field [mm]\n",
    "u = [1.0, 1.0, 100.0]/sqrt(10002.0) #velocity vector u-hat\n",
    "Ntraj = 1000 #number of trajectories"
   ]
  },
  {
   "cell_type": "code",
   "execution_count": 45,
   "metadata": {},
   "outputs": [],
   "source": [
    "#\n",
    "# Derived values\n",
    "# \n",
    "qm = q/m # charge over mass [C/Kg]\n",
    "KE = KE_eV*1.602e-19 #Particle becomes charged by E field [J]\n",
    "v = sqrt(2.0*KE/m) # KE = 1/2mv^2 particle velocity magnitude [m/s]\n",
    "v_x = v*u[0] # initial velocity in x-hat \n",
    "v_y = v*u[1] # initial velocity in y-hat\n",
    "v_z = v*u[2] # initial velocity in z-hat\n",
    "v_s = [v_x, v_y, v_z] # velocity vector\n",
    "R = 0.001*R_mm # radius of the exit aperture [m]\n",
    "vzpass = -E[1]/B[0] # vzpass = velocity of z without apperature deflection\n",
    "\n",
    "#setup array for z-velocities\n",
    "vz = vzpass + linspace(-L*vzpass, L*vzpass, Ntraj+1) \n",
    "        # z initial velocities\n",
    "particle_pass = zeros(Ntraj+1)\n",
    "\n",
    "\n",
    "tmax = L/vzpass;\n",
    "\n",
    "# Set up the time interval\n",
    "t1 = 0.0 # initial time\n",
    "t2 = tmax # final scaled time\n",
    "n = 1000 # number of time steps\n",
    "h = (t2-t1)/n # time step size\n",
    "tpoints = arange(t1,t2,h)\n"
   ]
  },
  {
   "cell_type": "code",
   "execution_count": 46,
   "metadata": {
    "scrolled": true
   },
   "outputs": [],
   "source": [
    "# finding derivatives of position and velocity\n",
    "def derivs (r,t): \n",
    "    d = [r[1], r[3], r[5]] # r[1] = v_x, r[3] = v_y, r[5] = v_z\n",
    "    a = qm * (E + np.cross (d,B)) \n",
    "    return array([d[0],a[0],d[1],a[1],d[2],a[2]],float)"
   ]
  },
  {
   "cell_type": "code",
   "execution_count": 47,
   "metadata": {},
   "outputs": [],
   "source": [
    "# initial conditions \n",
    "p = [0,0,0] # [x,y,z] intitial coordinates of particle [m]\n",
    "d = p\n",
    "vv = [0,0,0] # [v_x,v_y,v_z] intitial velocity components [m/s]\n",
    "a = vv"
   ]
  },
  {
   "cell_type": "code",
   "execution_count": 48,
   "metadata": {
    "scrolled": false
   },
   "outputs": [],
   "source": [
    "for i in range(0,Ntraj):\n",
    "    #Initial conditions\n",
    "    a[2]= vz[i] # intitial z-velocity of the charged particle [m/s]\n",
    "    r0 = array([d[0],a[0],d[1],a[1],d[2],a[2]], float)\n",
    "    \n",
    "    r = odeint(derivs,r0,tpoints) ######### integrating (ordinary differential equation)\n",
    "\n",
    "    \n",
    "    # Extract the 1D matrices of position values\n",
    "    position_x = r[:,0]\n",
    "    position_y = r[:,2]\n",
    "    \n",
    "    # Check if the particle made it through the aperture\n",
    "    if absolute(position_x[n-1]) < R:\n",
    "        if absolute(position_y[n-1]) < sqrt(R*R - position_x[n-1]*position_x[n-1]):\n",
    "            particle_pass[i] = 1.0\n",
    "        else:\n",
    "            particle_pass[i] = 0.0\n",
    "    else:\n",
    "        particle_pass[i] = 0.0\n",
    "        "
   ]
  },
  {
   "cell_type": "code",
   "execution_count": 49,
   "metadata": {},
   "outputs": [],
   "source": [
    "#absolute(position_x[N-1])"
   ]
  },
  {
   "cell_type": "code",
   "execution_count": 50,
   "metadata": {},
   "outputs": [],
   "source": [
    "# Look for the specific value of \n",
    "for i in range (Ntraj//2,Ntraj):\n",
    "    if absolute(particle_pass[i]-particle_pass[i-1]) > 0.5:\n",
    "        #print\"i = %d\"%(i-1),\"vz[i] = %.3e\"%vz[i-1],\" m/s.\"\n",
    "        Deltav = vz[i-1] - vzpass\n",
    "        #print\"Delta v = %.3e\"%Deltav,\" m/s.\"\n",
    "        Deltavovervzpass = Deltav/vzpass\n",
    "        #print\"Delta v/vzpass = %.3e\"%Deltavovervzpass"
   ]
  },
  {
   "cell_type": "code",
   "execution_count": 51,
   "metadata": {
    "scrolled": true
   },
   "outputs": [],
   "source": [
    "\n",
    "\n",
    "# The array of time values at which to store the solution\n",
    "#tpoints = arange(t1,t2,h)\n",
    "#\n",
    "\n",
    "# Calculate the solution using odeint\n",
    "\n",
    "\n",
    "#print(\"The magnitude of the initial velocity is \" + str(int(v)) + \" m/s.\")\n",
    "#print(\"The x-component of the acceleration is \" + str(int(a[0])) + \" m/s^2.\")\n",
    "#print(\"The y-component of the acceleration is \" + str(int(a[1])) + \" m/s^2.\")\n",
    "#print(\"The z-component of the acceleration is \" + str(int(a[2])) + \" m/s^2.\")"
   ]
  },
  {
   "cell_type": "code",
   "execution_count": 52,
   "metadata": {
    "scrolled": true
   },
   "outputs": [
    {
     "data": {
      "image/png": "[encoded data removed]",
      "text/plain": [
       "<Figure size 432x288 with 1 Axes>"
      ]
     },
     "metadata": {
      "needs_background": "light"
     },
     "output_type": "display_data"
    },
    {
     "data": {
      "image/png": "[encoded data removed]",
      "text/plain": [
       "<Figure size 432x288 with 1 Axes>"
      ]
     },
     "metadata": {
      "needs_background": "light"
     },
     "output_type": "display_data"
    }
   ],
   "source": [
    "###### start a new figure\n",
    "figure()\n",
    "\n",
    "# Plot the particle pass function versus z-velocity\n",
    "plot(vz,particle_pass,\"b-\",label='$R = $%.2f mm'%R_mm)\n",
    "xlim(min(vz),max(vz))\n",
    "ylim(0.0,1.2)\n",
    "xlabel(\"$v_z$ [m/s]\",fontsize=16)\n",
    "ylabel(\"Transmitted truth value\",fontsize=16)\n",
    "grid(True)\n",
    "title('Wien filter: $v = $%.2e m, length $L = $%.2f m'%(v,L))\n",
    "legend(loc=1)\n",
    "show()\n",
    "\n",
    "# start a new figure\n",
    "figure()\n",
    "\n",
    "# Plot the particle pass function versus scaled z-velocity\n",
    "plot(vz/vzpass,particle_pass,\"b-\",label='$R = $%.2f mm'%R_mm)\n",
    "xlim(min(vz/vzpass),max(vz/vzpass))\n",
    "ylim(0.0,1.2)\n",
    "xlabel(\"$v_z/v_{z,pass}$\",fontsize=16)\n",
    "ylabel(\"Transmitted truth value\",fontsize=16)\n",
    "grid(True)\n",
    "legend(loc=1)\n",
    "title('Wien filter: $v_{z,pass} = $%.2e m, length $L = $%.2f m'%(vzpass,L))\n",
    "show()"
   ]
  },
  {
   "cell_type": "code",
   "execution_count": null,
   "metadata": {},
   "outputs": [],
   "source": []
  },
  {
   "cell_type": "code",
   "execution_count": null,
   "metadata": {},
   "outputs": [],
   "source": []
  }
 ],
 "metadata": {
  "kernelspec": {
   "display_name": "Python 3",
   "language": "python",
   "name": "python3"
  },
  "language_info": {
   "codemirror_mode": {
    "name": "ipython",
    "version": 3
   },
   "file_extension": ".py",
   "mimetype": "text/x-python",
   "name": "python",
   "nbconvert_exporter": "python",
   "pygments_lexer": "ipython3",
   "version": "3.7.6"
  }
 },
 "nbformat": 4,
 "nbformat_minor": 4
}
