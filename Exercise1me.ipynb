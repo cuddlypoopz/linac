{
 "cells": [
  {
   "cell_type": "code",
   "execution_count": 2,
   "metadata": {},
   "outputs": [
    {
     "name": "stdout",
     "output_type": "stream",
     "text": [
      "[524.8231351049519, 524.8231351049519, 52482.31351049519]\n",
      "[  0.         104.96462702  -1.04964627]\n"
     ]
    }
   ],
   "source": [
    "from numpy import sqrt\n",
    "import numpy as np\n",
    "\n",
    "#\n",
    "# Given values\n",
    "#\n",
    "\n",
    "q = 1.60e-19 # q = particle charge [C]\n",
    "m = 1.163e-26 # m = Li+ mass [Kg]\n",
    "KE_eV = 100.0 # KE_eV particle kinetic energy [eV]\n",
    "E = [0.0, -105.0, 0.0] # E = electric field vector [x, y, z] [N/C]\n",
    "B = [0.002, 0.0 , 0.0] # B = magnetic field vector [x, y, z] [T]\n",
    "u = [1.0, 1.0, 100.0]/sqrt(10002.0) #velocity vector u-hat\n",
    "\n",
    "#\n",
    "# Derived values\n",
    "#\n",
    "\n",
    "qm = q/m # charge over mass [C/Kg]\n",
    "KE = KE_eV*1.602e-19 #Particle becomes charged by E field [J]\n",
    "v = sqrt(2.0*KE/m) # KE = 1/2mv^2 particle velocity magnitude [m/s]\n",
    "v_x = v*u[0] # initial velocity in x-hat \n",
    "v_y = v*u[1] # initial velocity in y-hat\n",
    "v_z = v*u[2] # initial velocity in z-hat\n",
    "v_s = [v_x, v_y, v_z] \n",
    "\n",
    "#\n",
    "# Cross product\n",
    "# vcrossB = np.cross (v_s,B) # v cross B \n",
    "\n",
    "#\n",
    "# Calculating components of acceleration\n",
    "print(v_s)\n",
    "print(np.cross(v_s,B))"
   ]
  },
  {
   "cell_type": "code",
   "execution_count": 1,
   "metadata": {},
   "outputs": [
    {
     "name": "stdout",
     "output_type": "stream",
     "text": [
      "The magnitude of the initial velocity is 52487 m/s.\n",
      "The x-component of the acceleration is 0 m/s^2.\n",
      "The y-component of the acceleration is -486644 m/s^2.\n",
      "The z-component of the acceleration is -14440533 m/s^2.\n"
     ]
    }
   ],
   "source": [
    "a = qm* (E + np.cross (v_s,B)) # a = acceleration [x,y,z] = q/m (E + v x B)\n",
    "\n",
    "\n",
    "#\n",
    "#\n",
    "#\n",
    "\n",
    "\n",
    "print(\"The magnitude of the initial velocity is \" + str(int(v)) + \" m/s.\")\n",
    "print(\"The x-component of the acceleration is \" + str(int(a[0])) + \" m/s^2.\")\n",
    "print(\"The y-component of the acceleration is \" + str(int(a[1])) + \" m/s^2.\")\n",
    "print(\"The z-component of the acceleration is \" + str(int(a[2])) + \" m/s^2.\")"
   ]
  },
  {
   "cell_type": "code",
   "execution_count": null,
   "metadata": {},
   "outputs": [],
   "source": []
  },
  {
   "cell_type": "code",
   "execution_count": null,
   "metadata": {},
   "outputs": [],
   "source": []
  },
  {
   "cell_type": "code",
   "execution_count": null,
   "metadata": {},
   "outputs": [],
   "source": []
  }
 ],
 "metadata": {
  "kernelspec": {
   "display_name": "Python 3",
   "language": "python",
   "name": "python3"
  },
  "language_info": {
   "codemirror_mode": {
    "name": "ipython",
    "version": 3
   },
   "file_extension": ".py",
   "mimetype": "text/x-python",
   "name": "python",
   "nbconvert_exporter": "python",
   "pygments_lexer": "ipython3",
   "version": "3.7.6"
  }
 },
 "nbformat": 4,
 "nbformat_minor": 4
}
